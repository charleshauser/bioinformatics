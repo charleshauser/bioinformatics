{
 "cells": [
  {
   "cell_type": "markdown",
   "metadata": {},
   "source": [
    "## Notebook 2: Arrays, Lists and Tuples Revisited"
   ]
  },
  {
   "cell_type": "markdown",
   "metadata": {},
   "source": [
    "### Arrays, Lists, and Tuples\n",
    "\n",
    "One of the most fundamental data structures in any language is the array, yet Python doesn't have a native array data structure.\n",
    "\n",
    "\n",
    "Principially, an array can be seen like a list with the following differences:\n",
    "* All elements have to be of the same type, i.e. integer, float (real) or complex numbers\n",
    "* The number of elements have to be known a priori, i.e. when the array is created. It can't be changed afterwards.\n",
    "\n",
    "\n",
    "\n",
    "Next to the array, Python has several other data types that can store a sequence of values. The first one is called a `list` and is entered between square brackets. The second one is a tuple (you are right, strange name), and it is entered with parentheses. The difference is that you can change the values of a list after you create them, and you can not do that with a tuple. Other than that, for now you just need to remember that they exist, and that you *cannot* do math with either lists or tuples. When you do `2 * alist` where `alist` is a list, you don't multiply all values in `alist` with the number 2. What happens is that you create a new list that contains `alist` twice (so it adds them back to back). The same holds for tuples. That can be very useful, but not when your intent is to multiply all values by 2. In the example below, the first value in a list is modified. Try to modify one of the values in `btuple` below and you will see that you get an error message:"
   ]
  },
  {
   "cell_type": "markdown",
   "metadata": {},
   "source": [
    "**List basics**\n",
    "\n",
    "A list in Python is just an ordered collection of items which can be of any type. By comparison an array is an ordered collection of items of a single type - so in principle a list is more flexible than an array but it is this flexibility that makes things slightly harder when you want to work with a regular structure. A list is also a dynamic mutable type and this means you can add and delete elements from the list at any time.\n",
    "\n",
    "Recall, to define a list you simply write a comma separated list of items in square brackets:"
   ]
  },
  {
   "cell_type": "code",
   "execution_count": null,
   "metadata": {
    "collapsed": true
   },
   "outputs": [],
   "source": [
    "myList=[1,2,3,4,5,6]"
   ]
  },
  {
   "cell_type": "markdown",
   "metadata": {},
   "source": [
    "This looks like an array because you can use \"slicing\" notation to pick out an individual element - indexes start from 0. For example"
   ]
  },
  {
   "cell_type": "code",
   "execution_count": null,
   "metadata": {
    "collapsed": false
   },
   "outputs": [],
   "source": [
    "print myList[2]"
   ]
  },
  {
   "cell_type": "markdown",
   "metadata": {},
   "source": [
    "Similarly to change the third element you can assign directly to it:"
   ]
  },
  {
   "cell_type": "code",
   "execution_count": null,
   "metadata": {
    "collapsed": true
   },
   "outputs": [],
   "source": [
    "myList[2]=100 "
   ]
  },
  {
   "cell_type": "markdown",
   "metadata": {},
   "source": [
    "The slicing notation looks like array indexing but it is a lot more flexible. For example"
   ]
  },
  {
   "cell_type": "code",
   "execution_count": null,
   "metadata": {
    "collapsed": true
   },
   "outputs": [],
   "source": [
    "myList[2:5] # sublist from the third element to the fifth \n",
    "\n",
    "myList[5:] # the list up to and not including myList[5]\n",
    "\n",
    "myList[:] # entire list\n",
    "\n",
    "myList[0:2]=[0,1]"
   ]
  },
  {
   "cell_type": "markdown",
   "metadata": {},
   "source": [
    "Finally is it worth knowing that the list you assign to a slice doesn't have to be the same size as the slice - it simply replaces it even if it is a different size."
   ]
  },
  {
   "cell_type": "code",
   "execution_count": null,
   "metadata": {
    "collapsed": true
   },
   "outputs": [],
   "source": [
    "#different data types\n",
    "gene_exp=['gene',5.16e-08,.000138511,7.33e-08]"
   ]
  },
  {
   "cell_type": "code",
   "execution_count": null,
   "metadata": {
    "collapsed": false
   },
   "outputs": [],
   "source": [
    "print gene_exp[1]\n",
    "print gene_exp[-2]"
   ]
  },
  {
   "cell_type": "markdown",
   "metadata": {},
   "source": [
    "You can reassign values:"
   ]
  },
  {
   "cell_type": "code",
   "execution_count": null,
   "metadata": {
    "collapsed": true
   },
   "outputs": [],
   "source": [
    "gene_exp[0]='Lif'\n",
    "print gene_exp"
   ]
  },
  {
   "cell_type": "code",
   "execution_count": null,
   "metadata": {
    "collapsed": false
   },
   "outputs": [],
   "source": [
    "motif='acggggtc' \n",
    "print motif,\"\\n\",type(motif)"
   ]
  },
  {
   "cell_type": "markdown",
   "metadata": {},
   "source": [
    "We convert a string to a list by using the **list function**"
   ]
  },
  {
   "cell_type": "code",
   "execution_count": null,
   "metadata": {
    "collapsed": false
   },
   "outputs": [],
   "source": [
    "nt=list(motif)\n",
    "print nt\n",
    "print nt[1]"
   ]
  },
  {
   "cell_type": "code",
   "execution_count": null,
   "metadata": {
    "collapsed": false
   },
   "outputs": [],
   "source": [
    "# concatenate lists\n",
    "gene_exp+=[5.16e-08, 0.000138511] # Note in python 3 '+' is the concatenation operator"
   ]
  },
  {
   "cell_type": "markdown",
   "metadata": {},
   "source": [
    "### List Comprehension\n",
    "(PFCB p.168)\n",
    "Python supports a concept called \"list comprehensions\" which can be used to construct lists in a very natural way.  Essentially, it is Python's way of implementing a well-known notation for sets as used by mathematicians.  List comprehension is an elegant way to define and create list in Python. These lists have often the qualities of sets, but are not in all cases sets.\n",
    "\n",
    "**Example: Cross product of two sets:**"
   ]
  },
  {
   "cell_type": "code",
   "execution_count": null,
   "metadata": {
    "collapsed": false
   },
   "outputs": [],
   "source": [
    "organisms = [ \"mice\", \"yeast\", \"E.coli\", \"Human\" ]\n",
    "phenotypes = [ \"nude\", \"sterile\", \"diploid\" ]\n",
    "organism_phenotypes = [ (x,y) for x in organisms for y in phenotypes ]\n",
    "print organism_phenotypes"
   ]
  },
  {
   "cell_type": "code",
   "execution_count": null,
   "metadata": {
    "collapsed": false
   },
   "outputs": [],
   "source": [
    "#What do you predict the result of the following would be?\n",
    "myList=range(0,5)\n",
    "print myList\n",
    "print myList * 2"
   ]
  },
  {
   "cell_type": "markdown",
   "metadata": {},
   "source": [
    "There are modules (numpy) that provide more sophistication for applying operations to lists.\n",
    "Before we get to that, you can accomplish what you want with a for loop:"
   ]
  },
  {
   "cell_type": "code",
   "execution_count": null,
   "metadata": {
    "collapsed": false
   },
   "outputs": [],
   "source": [
    "myList=range(0,5)\n",
    "print myList\n",
    "squares =[]\n",
    "for value in myList:\n",
    "    squares.append(value **2)\n",
    "    \n",
    "print squares"
   ]
  },
  {
   "cell_type": "markdown",
   "metadata": {},
   "source": [
    "We can acccomplish the same using a *list comprehension* approach:"
   ]
  },
  {
   "cell_type": "code",
   "execution_count": null,
   "metadata": {
    "collapsed": false
   },
   "outputs": [],
   "source": [
    "myList=range(0,5)\n",
    "print myList\n",
    "squares =[value**2 for value in myList]\n",
    "print squares"
   ]
  },
  {
   "cell_type": "markdown",
   "metadata": {},
   "source": [
    "\n",
    "The list comprehension loops thru the list 'myList' and performs soem operation (\\*\\*2 in this case) on each 'value', and returns the list of results\n",
    "\n",
    "Pretty nice"
   ]
  },
  {
   "cell_type": "raw",
   "metadata": {},
   "source": [
    "List comprehension is  auseful way to extract a columns of data from a 2-dimensional array or list of strings.\n",
    "You can specify an index or range to get a subset of each element.\n",
    "\n",
    "*Suppose you want to extract the first codons from a list of genes:*"
   ]
  },
  {
   "cell_type": "code",
   "execution_count": null,
   "metadata": {
    "collapsed": false
   },
   "outputs": [],
   "source": [
    "geneList = ['attcagaat', 'tgtgaagt','tgtatcgcg','atgtctcta']\n",
    "firstCodons= [seq[0:3] for seq in geneList]\n",
    "firstCodons"
   ]
  },
  {
   "cell_type": "markdown",
   "metadata": {},
   "source": [
    "What if you want to know the base count from each sequence in geneList:"
   ]
  },
  {
   "cell_type": "markdown",
   "metadata": {},
   "source": [
    "####Arrays \n",
    "Principially, an array can be seen like a list with the following differences:\n",
    "* All elements have to be of the same type, i.e. integer, float (real) or complex numbers\n",
    "* The number of elements have to be known a priori, i.e. when the array is created. It can't be changed afterwards."
   ]
  },
  {
   "cell_type": "code",
   "execution_count": null,
   "metadata": {
    "collapsed": false
   },
   "outputs": [],
   "source": [
    "[seq.count('a') for seq in geneList]"
   ]
  },
  {
   "cell_type": "code",
   "execution_count": null,
   "metadata": {
    "collapsed": false
   },
   "outputs": [],
   "source": [
    "alist = [1,2,3]\n",
    "print 'alist', alist\n",
    "btuple = (10,20,30)\n",
    "print 'btuple', btuple\n",
    "alist[0] = 7  # Since alist is a list, you can change values \n",
    "print 'modified alist', alist\n",
    "#btuple[0] = 100  # Will give an error\n",
    "#print 2*alist"
   ]
  },
  {
   "cell_type": "markdown",
   "metadata": {},
   "source": [
    "Lists and tuples are versatile data types in Python. We already used lists without knowing it when we created our first array with the command `array([1,7,2,12])`. What we did is we gave the `array` function one input argument: the list `[1,7,2,12]`, and the `array` function returned a one-dimensional array with those values. Lists and tuples can consist of a sequences of pretty much anything, not just numbers. In the example given below, `alist` contains 5 *things*: the integer 1, the float 20, the word `python`, an array with the values 1,2,3, and finally, the function `len`. The latter means that `alist[4]` is actually the function `len`. That function can be called to determine the length of an array as, for example, `alist[4](alist[3])`. The latter may be a bit confusing, but it is cool behavior if you take the time to think about it."
   ]
  },
  {
   "cell_type": "code",
   "execution_count": null,
   "metadata": {
    "collapsed": false
   },
   "outputs": [],
   "source": [
    "alist = [1, 20.0, 'python', np.array([1,2,3]), len]\n",
    "print alist\n",
    "print alist[0]\n",
    "print alist[2]\n",
    "print alist[4]( alist[3] )  # same as len( np.array([1,2,3]) )"
   ]
  }
 ],
 "metadata": {
  "kernelspec": {
   "display_name": "Python 2",
   "language": "python",
   "name": "python2"
  },
  "language_info": {
   "codemirror_mode": {
    "name": "ipython",
    "version": 2
   },
   "file_extension": ".py",
   "mimetype": "text/x-python",
   "name": "python",
   "nbconvert_exporter": "python",
   "pygments_lexer": "ipython2",
   "version": "2.7.11"
  }
 },
 "nbformat": 4,
 "nbformat_minor": 0
}
